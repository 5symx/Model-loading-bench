{
  "nbformat": 4,
  "nbformat_minor": 0,
  "metadata": {
    "colab": {
      "private_outputs": true,
      "provenance": [],
      "gpuType": "T4",
      "include_colab_link": true
    },
    "kernelspec": {
      "name": "python3",
      "display_name": "Python 3"
    },
    "language_info": {
      "name": "python"
    },
    "accelerator": "GPU"
  },
  "cells": [
    {
      "cell_type": "markdown",
      "metadata": {
        "id": "view-in-github",
        "colab_type": "text"
      },
      "source": [
        "<a href=\"https://colab.research.google.com/github/5symx/Model-loading-bench/blob/main/ggml_CTransformers_bench.ipynb\" target=\"_parent\"><img src=\"https://colab.research.google.com/assets/colab-badge.svg\" alt=\"Open In Colab\"/></a>"
      ]
    },
    {
      "cell_type": "markdown",
      "source": [
        "#### Install Package"
      ],
      "metadata": {
        "id": "nhKRx0RNeOvu"
      }
    },
    {
      "cell_type": "code",
      "execution_count": null,
      "metadata": {
        "id": "8Hu74s0OdmQ3"
      },
      "outputs": [],
      "source": [
        "!pip install ctransformers ctransformers[cuda] transformers"
      ]
    },
    {
      "cell_type": "markdown",
      "source": [
        "#### Load Model"
      ],
      "metadata": {
        "id": "d-jpwEUReVSo"
      }
    },
    {
      "cell_type": "code",
      "source": [
        "from ctransformers import AutoModelForCausalLM\n",
        "from transformers import AutoTokenizer\n",
        "tokenizer = AutoTokenizer.from_pretrained(\"gpt2\")\n",
        "prompt = \"AI is going to\"\n",
        "inputs = tokenizer(prompt, return_tensors=\"pt\").to(\"cuda\")\n",
        "from transformers import pipeline\n",
        "\n",
        "llm = AutoModelForCausalLM.from_pretrained(\"marella/gpt-2-ggml\", gpu_layers=50)\n",
        "import time"
      ],
      "metadata": {
        "id": "dU_8RrFueeYG"
      },
      "execution_count": null,
      "outputs": []
    },
    {
      "cell_type": "markdown",
      "source": [
        "#### Generate Text"
      ],
      "metadata": {
        "id": "4HwKRsrfeokq"
      }
    },
    {
      "cell_type": "code",
      "source": [
        "for _ in range(3):\n",
        "  start = time.perf_counter()\n",
        "  llm = AutoModelForCausalLM.from_pretrained(\"marella/gpt-2-ggml\", gpu_layers=50)\n",
        "  # pipe = pipeline(\"text-generation\", model=llm, tokenizer=tokenizer)#,device=0)\n",
        "  # pipe(prompt, max_new_tokens=256)\n",
        "\n",
        "  generate_text = llm(prompt, max_new_tokens=30)\n",
        "\n",
        "  print(time.perf_counter() - start)\n",
        "  tokens = tokenizer.encode(generate_text)\n",
        "  token_length = len(tokens)\n",
        "  print(f\"Token length: {token_length}\")"
      ],
      "metadata": {
        "id": "Liu247sNrRnn"
      },
      "execution_count": null,
      "outputs": []
    },
    {
      "cell_type": "code",
      "source": [
        "from transformers import GPT2Tokenizer, GPT2LMHeadModel\n",
        "\n",
        "import time"
      ],
      "metadata": {
        "id": "MQPhmgHNoNBO"
      },
      "execution_count": null,
      "outputs": []
    },
    {
      "cell_type": "code",
      "source": [
        "for _ in range(1):\n",
        "  start = time.perf_counter()\n",
        "  model = GPT2LMHeadModel.from_pretrained('gpt2').to(\"cuda\")\n",
        "  outputs = model.generate(**inputs, max_new_tokens=30)\n",
        "  generated_text = tokenizer.decode(outputs[0], skip_special_tokens=True)\n",
        "  print(time.perf_counter() - start)\n",
        "  tokens = tokenizer.encode(generated_text)\n",
        "  token_length = len(tokens)\n",
        "  print(f\"Token length: {token_length}\")\n"
      ],
      "metadata": {
        "id": "8xEajwtgnwXz"
      },
      "execution_count": null,
      "outputs": []
    }
  ]
}